{
 "cells": [
  {
   "cell_type": "markdown",
   "id": "72ee1516-54c4-47cc-a651-bd764024a6c0",
   "metadata": {},
   "source": [
    "Data Science Tools and Ecosystem"
   ]
  },
  {
   "cell_type": "markdown",
   "id": "818f9726-6bc2-4489-b426-6fc956c34326",
   "metadata": {},
   "source": [
    "In this notebook, Data Science Tools and Ecosystem are summarized.\n",
    "\n",
    "##### Objectives:\n",
    "\n",
    "Most important lenguages for Data Science: Python, R, Julia, C++..."
   ]
  },
  {
   "cell_type": "markdown",
   "id": "11885e17-5ade-42d1-8988-c4021ac07951",
   "metadata": {},
   "source": [
    "Some of the popular languages that Data Scientists use are: \n",
    "1. Python \n",
    "2. R \n",
    "3. Julia \n",
    "4. C++"
   ]
  },
  {
   "cell_type": "markdown",
   "id": "2a4d34ea-a1b0-4caf-a6b0-5801e9c4659f",
   "metadata": {},
   "source": [
    "Some of the commonly used libraries used by Data Scientists include:\n",
    "\n",
    " 1. NumPy\n",
    " 2. Panda\n",
    " 3. MatPlotLib\n",
    " 4. Seaborn"
   ]
  },
  {
   "cell_type": "raw",
   "id": "bad83182-6bba-489e-b2e6-097928daaac5",
   "metadata": {},
   "source": [
    "Data Science Tools:\n",
    "Caret\n",
    "Stringr\n",
    "ggplot\n",
    "dplyr"
   ]
  },
  {
   "cell_type": "markdown",
   "id": "9148d770-5368-4f9b-a991-8d4de21c2a58",
   "metadata": {},
   "source": [
    "### Below are a few examples of evaluating arithmetic expressions in Python"
   ]
  },
  {
   "cell_type": "code",
   "execution_count": 5,
   "id": "bcef11e1-fedc-4c84-acda-e134709812c2",
   "metadata": {
    "tags": []
   },
   "outputs": [
    {
     "data": {
      "text/plain": [
       "17"
      ]
     },
     "execution_count": 5,
     "metadata": {},
     "output_type": "execute_result"
    }
   ],
   "source": [
    "#This a simple arithmetic expression to mutiply then add integers\n",
    "\n",
    "(3*4)+5"
   ]
  },
  {
   "cell_type": "code",
   "execution_count": 6,
   "id": "2ac2e6ba-5fbd-4bcc-ad48-16fd487c6c88",
   "metadata": {
    "tags": []
   },
   "outputs": [
    {
     "data": {
      "text/plain": [
       "3.3333333333333335"
      ]
     },
     "execution_count": 6,
     "metadata": {},
     "output_type": "execute_result"
    }
   ],
   "source": [
    "#This will convert 200 minutes to hours by diving by 60\n",
    "\n",
    "200/60"
   ]
  },
  {
   "cell_type": "markdown",
   "id": "b42dae78-931e-445e-ab5b-310298635985",
   "metadata": {},
   "source": [
    "## Author: \n",
    "Jose Castillo"
   ]
  },
  {
   "cell_type": "code",
   "execution_count": null,
   "id": "1e015347-e8d5-42e4-ab3d-6f1bc8efffb4",
   "metadata": {},
   "outputs": [],
   "source": []
  }
 ],
 "metadata": {
  "kernelspec": {
   "display_name": "Python",
   "language": "python",
   "name": "conda-env-python-py"
  },
  "language_info": {
   "codemirror_mode": {
    "name": "ipython",
    "version": 3
   },
   "file_extension": ".py",
   "mimetype": "text/x-python",
   "name": "python",
   "nbconvert_exporter": "python",
   "pygments_lexer": "ipython3",
   "version": "3.7.12"
  }
 },
 "nbformat": 4,
 "nbformat_minor": 5
}
